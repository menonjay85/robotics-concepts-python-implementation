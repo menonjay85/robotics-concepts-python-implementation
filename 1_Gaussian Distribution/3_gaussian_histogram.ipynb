{
 "cells": [
  {
   "cell_type": "code",
   "execution_count": 4,
   "metadata": {},
   "outputs": [
    {
     "data": {
      "application/vnd.jupyter.widget-view+json": {
       "model_id": "4e91c720ae0f46b8afd59659b431e386",
       "version_major": 2,
       "version_minor": 0
      },
      "text/plain": [
       "interactive(children=(IntSlider(value=500, description='n', max=1000, min=100, step=100), Output()), _dom_clas…"
      ]
     },
     "metadata": {},
     "output_type": "display_data"
    },
    {
     "data": {
      "text/plain": [
       "<function __main__.interactive_hist(n)>"
      ]
     },
     "execution_count": 4,
     "metadata": {},
     "output_type": "execute_result"
    }
   ],
   "source": [
    "import numpy as np\n",
    "import matplotlib.pyplot as plt\n",
    "from ipywidgets import interact, fixed\n",
    "import random\n",
    "\n",
    "def gen_samples(n, mu, sigma):\n",
    "    \"\"\"Generate n samples of a gaussian distribution\"\"\"\n",
    "    samples = sigma * np.random.randn(n) + mu\n",
    "    return samples\n",
    "\n",
    "def hist_slice(samples, n):\n",
    "    \"\"\"Plot histogram for the first n values in samples\"\"\"\n",
    "    plt.figure(figsize=(10, 6))\n",
    "    # Plot histogram with the first n values\n",
    "    plt.hist(samples[:n], bins=30, edgecolor='black', density=True, stacked=True)\n",
    "    # Additional plot for Gaussian PDF\n",
    "    x = np.linspace(min(samples), max(samples), 100)\n",
    "    variance = 2 ** 2\n",
    "    pdf = (1 / np.sqrt(2 * np.pi * variance)) * np.exp(-0.5 * ((x - 2) ** 2) / variance)\n",
    "    plt.plot(x, pdf, 'r', label='Gaussian PDF (mu=2, sigma=2)')\n",
    "    plt.xlabel(\"Sample Values\")\n",
    "    plt.ylabel(\"Density\")\n",
    "    plt.title(f\"Histogram of First {n} Samples with Gaussian PDF Overlay\")\n",
    "    plt.legend()\n",
    "    plt.show()\n",
    "\n",
    "# Initialize seed and generate samples\n",
    "random.seed(0)\n",
    "samples = gen_samples(1000, 2, 2)\n",
    "\n",
    "# Use Jupyter interact function for interactive histogram visualization\n",
    "def interactive_hist(n):\n",
    "    hist_slice(samples, n)\n",
    "\n",
    "interact(interactive_hist, n=(100, 1000, 100))"
   ]
  }
 ],
 "metadata": {
  "kernelspec": {
   "display_name": ".venv",
   "language": "python",
   "name": "python3"
  },
  "language_info": {
   "codemirror_mode": {
    "name": "ipython",
    "version": 3
   },
   "file_extension": ".py",
   "mimetype": "text/x-python",
   "name": "python",
   "nbconvert_exporter": "python",
   "pygments_lexer": "ipython3",
   "version": "3.12.2"
  }
 },
 "nbformat": 4,
 "nbformat_minor": 2
}
